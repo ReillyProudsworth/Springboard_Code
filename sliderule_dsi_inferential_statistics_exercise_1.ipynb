{
 "cells": [
  {
   "cell_type": "markdown",
   "metadata": {},
   "source": [
    "# What is the True Normal Human Body Temperature? \n",
    "\n",
    "#### Background\n",
    "\n",
    "The mean normal body temperature was held to be 37$^{\\circ}$C or 98.6$^{\\circ}$F for more than 120 years since it was first conceptualized and reported by Carl Wunderlich in a famous 1868 book. But, is this value statistically correct?"
   ]
  },
  {
   "cell_type": "markdown",
   "metadata": {},
   "source": [
    "<div class=\"span5 alert alert-info\">\n",
    "<h3>Exercises</h3>\n",
    "\n",
    "<p>In this exercise, you will analyze a dataset of human body temperatures and employ the concepts of hypothesis testing, confidence intervals, and statistical significance.</p>\n",
    "\n",
    "<p>Answer the following questions <b>in this notebook below and submit to your Github account</b>.</p> \n",
    "\n",
    "<ol>\n",
    "<li>  Is the distribution of body temperatures normal? \n",
    "    <ul>\n",
    "    <li> Although this is not a requirement for CLT to hold (read CLT carefully), it gives us some peace of mind that the population may also be normally distributed if we assume that this sample is representative of the population.\n",
    "    </ul>\n",
    "<li>  Is the sample size large? Are the observations independent?\n",
    "    <ul>\n",
    "    <li> Remember that this is a condition for the CLT, and hence the statistical tests we are using, to apply.\n",
    "    </ul>\n",
    "<li>  Is the true population mean really 98.6 degrees F?\n",
    "    <ul>\n",
    "    <li> Would you use a one-sample or two-sample test? Why?\n",
    "    <li> In this situation, is it appropriate to use the $t$ or $z$ statistic? \n",
    "    <li> Now try using the other test. How is the result be different? Why?\n",
    "    </ul>\n",
    "<li>  At what temperature should we consider someone's temperature to be \"abnormal\"?\n",
    "    <ul>\n",
    "    <li> Start by computing the margin of error and confidence interval.\n",
    "    </ul>\n",
    "<li>  Is there a significant difference between males and females in normal temperature?\n",
    "    <ul>\n",
    "    <li> What test did you use and why?\n",
    "    <li> Write a story with your conclusion in the context of the original problem.\n",
    "    </ul>\n",
    "</ol>\n",
    "\n",
    "You can include written notes in notebook cells using Markdown: \n",
    "   - In the control panel at the top, choose Cell > Cell Type > Markdown\n",
    "   - Markdown syntax: http://nestacms.com/docs/creating-content/markdown-cheat-sheet\n",
    "\n",
    "#### Resources\n",
    "\n",
    "+ Information and data sources: http://www.amstat.org/publications/jse/datasets/normtemp.txt, http://www.amstat.org/publications/jse/jse_data_archive.htm\n",
    "+ Markdown syntax: http://nestacms.com/docs/creating-content/markdown-cheat-sheet\n",
    "\n",
    "****\n",
    "</div>"
   ]
  },
  {
   "cell_type": "code",
   "execution_count": 16,
   "metadata": {},
   "outputs": [
    {
     "name": "stdout",
     "output_type": "stream",
     "text": [
      "Populating the interactive namespace from numpy and matplotlib\n"
     ]
    },
    {
     "name": "stderr",
     "output_type": "stream",
     "text": [
      "C:\\Users\\Reilly Proudsworth\\Anaconda3\\lib\\site-packages\\IPython\\core\\magics\\pylab.py:161: UserWarning: pylab import has clobbered these variables: ['plt']\n",
      "`%matplotlib` prevents importing * from pylab and numpy\n",
      "  \"\\n`%matplotlib` prevents importing * from pylab and numpy\"\n"
     ]
    }
   ],
   "source": [
    "import pandas as pd\n",
    "%pylab inline\n",
    "\n",
    "df = pd.read_csv('data/human_body_temperature.csv')"
   ]
  },
  {
   "cell_type": "markdown",
   "metadata": {},
   "source": [
    "1. Is the distribution of body temperatures normal?\n",
    "\n",
    "The CLT says that in most situations even if the original data is not normally distributed, the normalized sum of independant random variables tends toward a normal distribution.  We can qualitatively look for a normal distribution by plotting the data using a histogram."
   ]
  },
  {
   "cell_type": "code",
   "execution_count": 19,
   "metadata": {},
   "outputs": [
    {
     "data": {
      "text/plain": [
       "(array([  2.,   0.,   3.,   2.,   3.,   4.,   7.,   7.,  12.,  11.,  13.,\n",
       "         14.,  13.,  18.,   2.,   8.,   5.,   3.,   0.,   0.,   2.,   0.,\n",
       "          0.,   0.,   1.]),\n",
       " array([  96.3 ,   96.48,   96.66,   96.84,   97.02,   97.2 ,   97.38,\n",
       "          97.56,   97.74,   97.92,   98.1 ,   98.28,   98.46,   98.64,\n",
       "          98.82,   99.  ,   99.18,   99.36,   99.54,   99.72,   99.9 ,\n",
       "         100.08,  100.26,  100.44,  100.62,  100.8 ]),\n",
       " <a list of 25 Patch objects>)"
      ]
     },
     "execution_count": 19,
     "metadata": {},
     "output_type": "execute_result"
    },
    {
     "data": {
      "image/png": "[encoded data removed]",
      "text/plain": [
       "<matplotlib.figure.Figure at 0x1a897a39e10>"
      ]
     },
     "metadata": {},
     "output_type": "display_data"
    }
   ],
   "source": [
    "plt.hist(df.temperature, bins=25)"
   ]
  },
  {
   "cell_type": "markdown",
   "metadata": {},
   "source": [
    "As we see above, there is approximately a normal distribution curve."
   ]
  },
  {
   "cell_type": "markdown",
   "metadata": {},
   "source": [
    "Is the sample size large? Are the observations independent? \n",
    "Remember that this is a condition for the CLT, and hence the statistical tests we are using, to apply.\n",
    "\n",
    "A large sample size is considered to be more than 30 samples.  We'll look at the length of our dataframe below."
   ]
  },
  {
   "cell_type": "code",
   "execution_count": 25,
   "metadata": {},
   "outputs": [
    {
     "data": {
      "text/plain": [
       "130"
      ]
     },
     "execution_count": 25,
     "metadata": {},
     "output_type": "execute_result"
    }
   ],
   "source": [
    "len(df)"
   ]
  },
  {
   "cell_type": "markdown",
   "metadata": {},
   "source": [
    "As we can see the dataframe contains 130 observations/samples which means this is a large sample size.  We can also conclude that the observations are independant as they are collected from 130 different people; as far as we know: one person's measurement isn't based on/influenced by the measurement from another person."
   ]
  },
  {
   "cell_type": "markdown",
   "metadata": {},
   "source": [
    "Is the true population mean really 98.6 degrees F?\n",
    "Would you use a one-sample or two-sample test? Why?\n",
    "In this situation, is it appropriate to use the t or z statistic?\n",
    "Now try using the other test. How is the result be different? Why?\n",
    "\n",
    "We don't know if the true population mean is 98.6 however we can find our sample mean and test the probability of our answer being statistically significant."
   ]
  },
  {
   "cell_type": "code",
   "execution_count": 26,
   "metadata": {},
   "outputs": [
    {
     "data": {
      "text/plain": [
       "count    130.000000\n",
       "mean      98.249231\n",
       "std        0.733183\n",
       "min       96.300000\n",
       "25%       97.800000\n",
       "50%       98.300000\n",
       "75%       98.700000\n",
       "max      100.800000\n",
       "Name: temperature, dtype: float64"
      ]
     },
     "execution_count": 26,
     "metadata": {},
     "output_type": "execute_result"
    }
   ],
   "source": [
    "df.temperature.describe()"
   ]
  },
  {
   "cell_type": "markdown",
   "metadata": {},
   "source": [
    "This shows the sample mean as slightly lower than 98.6.  If we say that the null hypothesis is the mean population temperature is 98.6 and the alternative hypothesis is that it is other than that we can test for if this group is representative of the whole.  We would want to use a one-sample test because we're looking at population as whole.  If we were comparing men and women, then a two-sample test would be appropriate.  We will use a z-value because we have a large sample size (>30 samples).\n",
    "\n",
    "Based on our assumption that null hypothesis is true and the population mean is 98.6, we can say our sample mean should be 98.6.  With the CLT we can then say that the standard deviation of our sampling distribution will be estimated by the standard deviation of our sample over the square-root of our total samples."
   ]
  },
  {
   "cell_type": "code",
   "execution_count": 27,
   "metadata": {},
   "outputs": [
    {
     "data": {
      "text/plain": [
       "0.064304402976958566"
      ]
     },
     "execution_count": 27,
     "metadata": {},
     "output_type": "execute_result"
    }
   ],
   "source": [
    "stdev = 0.733183/sqrt(130)\n",
    "stdev"
   ]
  },
  {
   "cell_type": "markdown",
   "metadata": {},
   "source": [
    "With this value we can calculate our z-score for the sample mean by taking the difference between the assumed mean and our sample mean, divided by the sampling distributions standard deviation."
   ]
  },
  {
   "cell_type": "code",
   "execution_count": 28,
   "metadata": {},
   "outputs": [
    {
     "data": {
      "text/plain": [
       "5.442862133801408"
      ]
     },
     "execution_count": 28,
     "metadata": {},
     "output_type": "execute_result"
    }
   ],
   "source": [
    "z = (98.6 - 98.25)/stdev\n",
    "z"
   ]
  },
  {
   "cell_type": "markdown",
   "metadata": {},
   "source": [
    "This shows us we're seeing 5.44 standard deviations from the assumed mean.  We know that 99.7% of the area under a normal distribution curve is within 3 standard deviations, so this implies there is much less than a 0.3% chance this our sample average is random chance.  Considering this, we would reject the null hypothesis and say that normal body temperature is different than 98.6 degrees.\n",
    "\n",
    "However, perhaps we should have used a two-sample test.  Lets see how the results change if we split the groups into men and women.  "
   ]
  },
  {
   "cell_type": "code",
   "execution_count": 37,
   "metadata": {},
   "outputs": [
    {
     "name": "stdout",
     "output_type": "stream",
     "text": [
      "65\n",
      "65\n"
     ]
    }
   ],
   "source": [
    "dfm = df[df.gender == 'M']\n",
    "dff = df[df.gender == 'F']\n",
    "print(len(dfm))\n",
    "print(len(dff))"
   ]
  },
  {
   "cell_type": "markdown",
   "metadata": {},
   "source": [
    "As we can see the data is split equally between men and women.  Let's look at the sample mean for each group."
   ]
  },
  {
   "cell_type": "code",
   "execution_count": 40,
   "metadata": {},
   "outputs": [
    {
     "name": "stdout",
     "output_type": "stream",
     "text": [
      "       temperature  heart_rate\n",
      "count    65.000000   65.000000\n",
      "mean     98.104615   73.369231\n",
      "std       0.698756    5.875184\n",
      "min      96.300000   58.000000\n",
      "25%      97.600000   70.000000\n",
      "50%      98.100000   73.000000\n",
      "75%      98.600000   78.000000\n",
      "max      99.500000   86.000000\n",
      "       temperature  heart_rate\n",
      "count    65.000000   65.000000\n",
      "mean     98.393846   74.153846\n",
      "std       0.743488    8.105227\n",
      "min      96.400000   57.000000\n",
      "25%      98.000000   68.000000\n",
      "50%      98.400000   76.000000\n",
      "75%      98.800000   80.000000\n",
      "max     100.800000   89.000000\n"
     ]
    }
   ],
   "source": [
    "print(dfm.describe())\n",
    "print(dff.describe())"
   ]
  },
  {
   "cell_type": "markdown",
   "metadata": {},
   "source": [
    "Performing the same calculations above for both groups:"
   ]
  },
  {
   "cell_type": "code",
   "execution_count": 44,
   "metadata": {},
   "outputs": [
    {
     "name": "stdout",
     "output_type": "stream",
     "text": [
      "5.76900788566\n",
      "2.27720437605\n"
     ]
    }
   ],
   "source": [
    "stdev = 0.698756/sqrt(65)\n",
    "zm = (98.6 - 98.10)/stdev\n",
    "print(zm)\n",
    "\n",
    "stdev = 0.743488/sqrt(65)\n",
    "zf = (98.6 - 98.39)/stdev\n",
    "print(zf)"
   ]
  },
  {
   "cell_type": "markdown",
   "metadata": {},
   "source": [
    "We can see than the z-score for females is lower than males, with 2.28.  Referring to a z-table, that gives us a probability of less than 2% this result was random.  Based on both samples we should reject the null hypothesis and conclude the average body temperature is different than 98.6."
   ]
  },
  {
   "cell_type": "markdown",
   "metadata": {},
   "source": [
    "At what temperature should we consider someone's temperature to be \"abnormal\"? \n",
    "Start by computing the margin of error and confidence interval.\n",
    "\n",
    "Now that we've determined that 98.6 isn't correct, let's assume our sample is truly representative of the total population.  This gives us the standard deviation of our sampling distribution."
   ]
  },
  {
   "cell_type": "code",
   "execution_count": 45,
   "metadata": {},
   "outputs": [
    {
     "data": {
      "text/plain": [
       "0.064304402976958566"
      ]
     },
     "execution_count": 45,
     "metadata": {},
     "output_type": "execute_result"
    }
   ],
   "source": [
    "stdev = 0.733183/sqrt(130)\n",
    "stdev"
   ]
  },
  {
   "cell_type": "markdown",
   "metadata": {},
   "source": [
    "A rule of thumb in this case is that approximately 95.4% of the probable means fall within 2 standard deviations of the sample mean. So we multiply the above number by 2 then add/subtract from the sample mean to find our margin of error at a 95.4% confidence interval. "
   ]
  },
  {
   "cell_type": "code",
   "execution_count": 47,
   "metadata": {},
   "outputs": [
    {
     "name": "stdout",
     "output_type": "stream",
     "text": [
      "98.378608806\n",
      "98.121391194\n"
     ]
    }
   ],
   "source": [
    "print(98.25 + 2 * stdev)\n",
    "print(98.25 - 2 * stdev)"
   ]
  },
  {
   "cell_type": "markdown",
   "metadata": {},
   "source": [
    "If we see a temperature outside these boundries, we can be 95% sure that the outcome is 'abnormal' among the population."
   ]
  },
  {
   "cell_type": "markdown",
   "metadata": {},
   "source": [
    "Is there a significant difference between males and females in normal temperature? \n",
    "What test did you use and why? \n",
    "Write a story with your conclusion in the context of the original problem.\n",
    "\n",
    "In order to figure out if there is a significant difference between males and females we need to figure out the distribution of the difference of the means.  This requires a two-sample test because we need to break the groups into men and women.  Assuming we would like a 95% confidence interval, the critical z-value will be 1.96.  We begin by finding the difference in means between the groups then find the standard deviation of the difference between our sample groups.  The next step is multiplying the standard deviation by 1.96 to see if the result is significant."
   ]
  },
  {
   "cell_type": "code",
   "execution_count": 49,
   "metadata": {},
   "outputs": [
    {
     "name": "stdout",
     "output_type": "stream",
     "text": [
      "0.2892310000000009\n",
      "0.248045826197\n"
     ]
    }
   ],
   "source": [
    "print(98.393846 - 98.104615)\n",
    "stdev = sqrt(((0.743488 ** 2) / 65) + ((0.698756 ** 2) / 65))\n",
    "print(1.96 * stdev)"
   ]
  },
  {
   "cell_type": "markdown",
   "metadata": {},
   "source": [
    "This shows us that the difference between the means is significant as the standard deviation of the sample population means gives us a lower boundary margin of error for the male sample of 98.14 and the mean female sample temp is lower than that boundary.\n",
    "\n",
    "What we can see from this data is that the original conclusions by Carl Wunderlich aren't supported by our statistical inference with 95% confidence.  There is a difference in means between males and females, with males being warmer on average than females.  Depending on how Wunderlich designed his experiment, for instance using only a small group of  males for his population sample, he may have come to his conclusion off of poor sample population data."
   ]
  }
 ],
 "metadata": {
  "kernelspec": {
   "display_name": "Python 3",
   "language": "python",
   "name": "python3"
  },
  "language_info": {
   "codemirror_mode": {
    "name": "ipython",
    "version": 3
   },
   "file_extension": ".py",
   "mimetype": "text/x-python",
   "name": "python",
   "nbconvert_exporter": "python",
   "pygments_lexer": "ipython3",
   "version": "3.6.1"
  }
 },
 "nbformat": 4,
 "nbformat_minor": 1
}
